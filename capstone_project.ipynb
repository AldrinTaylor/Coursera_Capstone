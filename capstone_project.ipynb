{
 "cells": [
  {
   "cell_type": "markdown",
   "metadata": {},
   "source": [
    "# Week 4 - Problem Definition\n",
    "___"
   ]
  },
  {
   "cell_type": "markdown",
   "metadata": {},
   "source": [
    "## Business Understanding"
   ]
  },
  {
   "cell_type": "markdown",
   "metadata": {},
   "source": [
    "How to choose the restaurant in the New York metropolitan area?"
   ]
  },
  {
   "cell_type": "markdown",
   "metadata": {},
   "source": [
    "To choose where to eat in New York, one could employ several approaches, for example, to pick:\n",
    "- The best cost per benefit;\n",
    "- The most popular in the region;\n",
    "- The best fit for its requirements."
   ]
  },
  {
   "cell_type": "markdown",
   "metadata": {},
   "source": [
    "## Approach and Requirement"
   ]
  },
  {
   "cell_type": "markdown",
   "metadata": {},
   "source": [
    "Descriptive Analytics:\n",
    "- **Popularity**, number of `likes`;\n",
    "- **Cost per benefit**, ratio of `price` over `rating`;\n",
    "- **Concentration**, distribution of `location`."
   ]
  },
  {
   "cell_type": "markdown",
   "metadata": {},
   "source": [
    "Predictive Approach:\n",
    "- Prescribe **neighbourhood** given requirements."
   ]
  },
  {
   "cell_type": "markdown",
   "metadata": {},
   "source": [
    "### Methodology"
   ]
  },
  {
   "cell_type": "markdown",
   "metadata": {},
   "source": [
    "For this project it's needed an holistic approach where both descriptive and predictive analytics are employed.\n",
    "A descriptive analysis will generate cost per benefit and popularity for each area. While, a predictive model will result in the best place given requirements."
   ]
  },
  {
   "cell_type": "markdown",
   "metadata": {},
   "source": [
    "The predictive model choosen is a decision tree with rating, likes and price (requirements) as features and neighbourhood as target."
   ]
  },
  {
   "cell_type": "markdown",
   "metadata": {},
   "source": [
    "### Data Sources"
   ]
  },
  {
   "cell_type": "markdown",
   "metadata": {},
   "source": [
    "The data will be obtained from an Airbnb data source and from Foursquare and Geolocator API.\\\n",
    "Airbnb data source: http://insideairbnb.com/get-the-data.html."
   ]
  },
  {
   "cell_type": "markdown",
   "metadata": {},
   "source": [
    "# Week 5 - New York Restaurants \n",
    "___"
   ]
  },
  {
   "cell_type": "markdown",
   "metadata": {},
   "source": [
    "## Data Collection"
   ]
  },
  {
   "cell_type": "markdown",
   "metadata": {},
   "source": [
    "### Import Libraries"
   ]
  },
  {
   "cell_type": "markdown",
   "metadata": {},
   "source": [
    "Built-in Python"
   ]
  },
  {
   "cell_type": "code",
   "execution_count": null,
   "metadata": {},
   "outputs": [],
   "source": [
    "import json, pathlib"
   ]
  },
  {
   "cell_type": "markdown",
   "metadata": {},
   "source": [
    "Data Analysis"
   ]
  },
  {
   "cell_type": "code",
   "execution_count": null,
   "metadata": {},
   "outputs": [],
   "source": [
    "import numpy as np\n",
    "import pandas as pd"
   ]
  },
  {
   "cell_type": "markdown",
   "metadata": {},
   "source": [
    "Data Visualization"
   ]
  },
  {
   "cell_type": "code",
   "execution_count": null,
   "metadata": {},
   "outputs": [],
   "source": [
    "import matplotlib.pyplot as plt"
   ]
  },
  {
   "cell_type": "markdown",
   "metadata": {},
   "source": [
    "Machine Learning"
   ]
  },
  {
   "cell_type": "code",
   "execution_count": null,
   "metadata": {},
   "outputs": [],
   "source": [
    "from sklearn import preprocessing, metrics\n",
    "from sklearn.tree import DecisionTreeClassifier\n",
    "from sklearn.model_selection import train_test_split\n",
    "\n",
    "from joblib import dump, load"
   ]
  },
  {
   "cell_type": "markdown",
   "metadata": {},
   "source": [
    "Other Libraries"
   ]
  },
  {
   "cell_type": "code",
   "execution_count": null,
   "metadata": {},
   "outputs": [],
   "source": [
    "import requests, folium\n",
    "\n",
    "from geopy.geocoders import Nominatim"
   ]
  },
  {
   "cell_type": "markdown",
   "metadata": {},
   "source": [
    "### Airbnb Data - Neighbourhood and Area Names"
   ]
  },
  {
   "cell_type": "code",
   "execution_count": null,
   "metadata": {},
   "outputs": [],
   "source": [
    "geojson = r'./neighbourhoods.geojson'"
   ]
  },
  {
   "cell_type": "code",
   "execution_count": null,
   "metadata": {},
   "outputs": [],
   "source": [
    "df_ny = pd.read_csv('./neighbourhoods.csv', index_col='neighbourhood')"
   ]
  },
  {
   "cell_type": "code",
   "execution_count": null,
   "metadata": {},
   "outputs": [],
   "source": [
    "df_ny.index.name = 'neighbourhood'"
   ]
  },
  {
   "cell_type": "code",
   "execution_count": null,
   "metadata": {},
   "outputs": [],
   "source": [
    "df_ny.head()"
   ]
  },
  {
   "cell_type": "code",
   "execution_count": null,
   "metadata": {},
   "outputs": [],
   "source": [
    "df_ny[['latitude', 'longitude']] = np.nan"
   ]
  },
  {
   "cell_type": "code",
   "execution_count": null,
   "metadata": {},
   "outputs": [],
   "source": [
    "df_areas = pd.DataFrame(columns=['latitude','longitude'],index=df_ny['neighbourhood_group'].unique())"
   ]
  },
  {
   "cell_type": "code",
   "execution_count": null,
   "metadata": {},
   "outputs": [],
   "source": [
    "df_areas.index.name = 'neighbourhood_group'"
   ]
  },
  {
   "cell_type": "code",
   "execution_count": null,
   "metadata": {},
   "outputs": [],
   "source": [
    "df_areas.head()"
   ]
  },
  {
   "cell_type": "markdown",
   "metadata": {},
   "source": [
    "## Geolocator API - Neighbourhood and Area Location"
   ]
  },
  {
   "cell_type": "code",
   "execution_count": null,
   "metadata": {},
   "outputs": [],
   "source": [
    "address = ', New York City, NY'\n",
    "geolocator = Nominatim(user_agent=\"ny_explorer\")\n",
    "\n",
    "def locate(df):\n",
    "\n",
    "    for idx in df.index:\n",
    "        loc = geolocator.geocode(idx + address)\n",
    "        \n",
    "        if loc is None:\n",
    "            continue\n",
    "\n",
    "        df.loc[[idx],['latitude']] = loc.latitude\n",
    "        df.loc[[idx],['longitude']] = loc.longitude"
   ]
  },
  {
   "cell_type": "code",
   "execution_count": null,
   "metadata": {},
   "outputs": [],
   "source": [
    "locate(df_ny)\n",
    "locate(df_areas)"
   ]
  },
  {
   "cell_type": "code",
   "execution_count": null,
   "metadata": {},
   "outputs": [],
   "source": [
    "df_ny.dropna(inplace=True)"
   ]
  },
  {
   "cell_type": "code",
   "execution_count": null,
   "metadata": {},
   "outputs": [],
   "source": [
    "df_areas.dropna(inplace=True)"
   ]
  },
  {
   "cell_type": "markdown",
   "metadata": {},
   "source": [
    "### Foursquare API - Search Venue"
   ]
  },
  {
   "cell_type": "code",
   "execution_count": null,
   "metadata": {},
   "outputs": [],
   "source": [
    "CLIENT_ID = 'PNC41IKLXMVLKVCZ5CSL3044KIAEY1ACPRIIEXODK3DEYMX1'\n",
    "CLIENT_SECRET = 'EELGU3BTHACFHWF13KM42Y2LZO4DUFR2451JFXOVWLR3M5Y4'\n",
    "VERSION = '20180605'\n",
    "LIMIT = 100"
   ]
  },
  {
   "cell_type": "markdown",
   "metadata": {},
   "source": [
    "Request search venues for each neighbourhood:"
   ]
  },
  {
   "cell_type": "code",
   "execution_count": null,
   "metadata": {},
   "outputs": [],
   "source": [
    "url = f'https://api.foursquare.com/v2/venues/search'\n",
    "search_data = list()\n",
    "for neighbourhood in df_ny.index:\n",
    "    params = dict(\n",
    "        client_id = CLIENT_ID,\n",
    "        client_secret = CLIENT_SECRET,\n",
    "        v = VERSION,\n",
    "        near = neighbourhood,\n",
    "        query = 'Restaurant',\n",
    "        limit = 100,\n",
    "        radius = 500\n",
    "    )\n",
    "    response = requests.get(url = url, params = params)\n",
    "    search_data.append(json.loads(response.text))"
   ]
  },
  {
   "cell_type": "markdown",
   "metadata": {},
   "source": [
    "Function to check and return field in the json data:"
   ]
  },
  {
   "cell_type": "code",
   "execution_count": null,
   "metadata": {},
   "outputs": [],
   "source": [
    "check = lambda name, table: table[name] if name in table.keys() else np.nan;"
   ]
  },
  {
   "cell_type": "markdown",
   "metadata": {},
   "source": [
    "Extract general information about each venue from response data:"
   ]
  },
  {
   "cell_type": "code",
   "execution_count": null,
   "metadata": {},
   "outputs": [],
   "source": [
    "df_venues = pd.DataFrame()\n",
    "\n",
    "for i in range(len(search_data)):\n",
    "    venues = check('venues', search_data[i]['response']);\n",
    "    \n",
    "    if venues is np.nan:\n",
    "        continue;\n",
    "        \n",
    "    for venue in venues:\n",
    "        df_venues = df_venues.append({\n",
    "            'neighbourhood':\\\n",
    "                df_ny.at[i,'neighbourhood'],\n",
    "            'neighbourhood_group':\\\n",
    "                df_ny.at[i,'neighbourhood_group'],\n",
    "            'id':\\\n",
    "                venue['id'],\n",
    "            'names':\\\n",
    "                venue['name'],\n",
    "            'category':\\\n",
    "                venue['categories'][0]['name'] if len(venue['categories']) else np.nan,\n",
    "            'latitude':\\\n",
    "                venue['location']['lat'],\n",
    "            'longitude':\\\n",
    "                venue['location']['lng'],\n",
    "        }, ignore_index = True)\n",
    "        \n",
    "df_venues = df_venues.set_index('id')"
   ]
  },
  {
   "cell_type": "markdown",
   "metadata": {},
   "source": [
    "## Data Sampling"
   ]
  },
  {
   "cell_type": "markdown",
   "metadata": {},
   "source": [
    "Filter in restaurant venues type:"
   ]
  },
  {
   "cell_type": "code",
   "execution_count": null,
   "metadata": {},
   "outputs": [],
   "source": [
    "df_venues = df_venues[df_venues['category'].str.contains('Restaurant', na=False)]"
   ]
  },
  {
   "cell_type": "markdown",
   "metadata": {},
   "source": [
    "Drop irrelevant venues:"
   ]
  },
  {
   "cell_type": "code",
   "execution_count": null,
   "metadata": {},
   "outputs": [],
   "source": [
    "irrelevant = ['Restaurant','Food', 'Sushi Restaurant','Seafood Restaurant', 'Vegetarian / Vegan Restaurant', 'New American Restaurant']"
   ]
  },
  {
   "cell_type": "code",
   "execution_count": null,
   "metadata": {},
   "outputs": [],
   "source": [
    "df_venues = df_venues[~df_venues['category'].isin(irrelevant)]"
   ]
  },
  {
   "cell_type": "markdown",
   "metadata": {},
   "source": [
    "Select relevant restaurants:"
   ]
  },
  {
   "cell_type": "code",
   "execution_count": null,
   "metadata": {},
   "outputs": [],
   "source": [
    "relevant = list(df_venues['category'].value_counts().head(15).index)"
   ]
  },
  {
   "cell_type": "code",
   "execution_count": null,
   "metadata": {},
   "outputs": [],
   "source": [
    "df_venues = df_venues[df_venues['category'].isin(relevant)]"
   ]
  },
  {
   "cell_type": "markdown",
   "metadata": {},
   "source": [
    "Sample the data (limited calls):"
   ]
  },
  {
   "cell_type": "code",
   "execution_count": null,
   "metadata": {},
   "outputs": [],
   "source": [
    "df_venues = df_venues.sample(n = 250, random_state=1)"
   ]
  },
  {
   "cell_type": "markdown",
   "metadata": {},
   "source": [
    "## Additional Data Collection"
   ]
  },
  {
   "cell_type": "markdown",
   "metadata": {},
   "source": [
    "### Foursquare API - Venue's Information"
   ]
  },
  {
   "cell_type": "markdown",
   "metadata": {},
   "source": [
    "Request information for each restaurant:"
   ]
  },
  {
   "cell_type": "code",
   "execution_count": null,
   "metadata": {},
   "outputs": [],
   "source": [
    "restaurant_data = list()\n",
    "\n",
    "for venue_id in df_venues.index:\n",
    "    url = f'https://api.foursquare.com/v2/venues/{venue_id}'\n",
    "    params = dict(client_id = CLIENT_ID,\n",
    "                  client_secret = CLIENT_SECRET,\n",
    "                  v = VERSION)\n",
    "    response = requests.get(url = url, params = params)\n",
    "    restaurant_data.append(json.loads(response.text))"
   ]
  },
  {
   "cell_type": "markdown",
   "metadata": {},
   "source": [
    "Extract specific information about each venue from response data:"
   ]
  },
  {
   "cell_type": "code",
   "execution_count": null,
   "metadata": {},
   "outputs": [],
   "source": [
    "for idx in range(len(restaurant_data)):\n",
    "    venue = check('venue', restaurant_data[idx]['response']);\n",
    "    \n",
    "    if venue is np.nan:\n",
    "        continue;\n",
    "        \n",
    "    price = check('price', venue);\n",
    "    tier = check('tier', price);\n",
    "    df_venues.loc[[venue['id']], ['price']] = tier;\n",
    "    rating = check('rating', venue);\n",
    "    df_venues.loc[[venue['id']], ['rating']] = rating;\n",
    "    likes = check('likes', venue);\n",
    "    count = check('count', likes);\n",
    "    df_venues.loc[[venue['id']], ['likes']] = count;"
   ]
  },
  {
   "cell_type": "markdown",
   "metadata": {},
   "source": [
    "##"
   ]
  },
  {
   "cell_type": "markdown",
   "metadata": {},
   "source": [
    "## Data Prepocessing - Descriptive Analysis"
   ]
  },
  {
   "cell_type": "markdown",
   "metadata": {},
   "source": [
    "Fill fields for each dataframe (consistency):"
   ]
  },
  {
   "cell_type": "code",
   "execution_count": null,
   "metadata": {},
   "outputs": [],
   "source": [
    "df_venues['ratio'] = df_venues['price'] / df_venues['rating'] * 2.5"
   ]
  },
  {
   "cell_type": "code",
   "execution_count": null,
   "metadata": {},
   "outputs": [],
   "source": [
    "df_ny = df_ny.merge(df_venues.loc[~df_venues['rating'].isnull()].groupby('neighbourhood')['rating'].mean(), on='neighbourhood')\n",
    "df_ny = df_ny.merge(df_venues.loc[~df_venues['price'].isnull()].groupby('neighbourhood')['price'].mean(), on='neighbourhood')\n",
    "df_ny = df_ny.merge(df_venues.groupby('neighbourhood')['likes'].sum(), on='neighbourhood')"
   ]
  },
  {
   "cell_type": "code",
   "execution_count": null,
   "metadata": {},
   "outputs": [],
   "source": [
    "df_ny['ratio'] = df_ny['price'] / df_ny['rating'] * 2.5"
   ]
  },
  {
   "cell_type": "code",
   "execution_count": null,
   "metadata": {},
   "outputs": [],
   "source": [
    "df_areas = df_areas.merge(df_venues.loc[~df_venues['rating'].isnull()].groupby('neighbourhood_group')['rating'].mean(), on='neighbourhood_group')\n",
    "df_areas = df_areas.merge(df_venues.loc[~df_venues['price'].isnull()].groupby('neighbourhood_group')['price'].mean(), on='neighbourhood_group')\n",
    "df_areas = df_areas.merge(df_venues.groupby('neighbourhood_group')['likes'].sum(), on='neighbourhood_group')"
   ]
  },
  {
   "cell_type": "code",
   "execution_count": null,
   "metadata": {},
   "outputs": [],
   "source": [
    "df_areas['ratio'] = df_areas['price'] / df_areas['rating'] * 2.5"
   ]
  },
  {
   "cell_type": "markdown",
   "metadata": {},
   "source": [
    "## Data Exploration"
   ]
  },
  {
   "cell_type": "markdown",
   "metadata": {},
   "source": [
    "### Categorical Analysis"
   ]
  },
  {
   "cell_type": "markdown",
   "metadata": {},
   "source": [
    "**Distribution of Restaurants**"
   ]
  },
  {
   "cell_type": "code",
   "execution_count": null,
   "metadata": {},
   "outputs": [],
   "source": [
    "series = df_venues['neighbourhood_group'].value_counts(normalize = True).sort_values(ascending = False)\n",
    "series.plot(kind='bar', figsize = (10, 6), color = 'slateblue')\n",
    "\n",
    "labels = []\n",
    "\n",
    "for index, value in enumerate(series.values):\n",
    "    plt.annotate(value,xy=(index - 0.12, value - 0.015) , color = 'white')\n",
    "\n",
    "plt.title('Concentration of Restaurants by New York Area')\n",
    "plt.xlabel('New York Area')\n",
    "plt.ylabel('Concentration')\n",
    "\n",
    "plt.show()"
   ]
  },
  {
   "cell_type": "markdown",
   "metadata": {},
   "source": [
    "**Distribution of Cuisines**"
   ]
  },
  {
   "cell_type": "code",
   "execution_count": null,
   "metadata": {},
   "outputs": [],
   "source": [
    "series = df_venues['category'].value_counts(normalize = True).sort_values(ascending = True)\n",
    "series.plot(kind='barh', figsize = (10, 6), color = 'slateblue')\n",
    "labels = []\n",
    "\n",
    "for index, value in enumerate(series.values):\n",
    "    plt.annotate(value,xy=(value - 0.02, index - 0.15) , color = 'white')\n",
    "    \n",
    "plt.title('Concentration of Restaurants by Cuisines')\n",
    "plt.xlabel('Concentration')\n",
    "plt.ylabel('Cuisine')\n",
    "\n",
    "plt.show()"
   ]
  },
  {
   "cell_type": "markdown",
   "metadata": {},
   "source": [
    "### Quantitative Analysis"
   ]
  },
  {
   "cell_type": "markdown",
   "metadata": {},
   "source": [
    "**Descriptive Stats by Area**"
   ]
  },
  {
   "cell_type": "code",
   "execution_count": null,
   "metadata": {},
   "outputs": [],
   "source": [
    "df_areas.sort_values('likes', ascending = False)"
   ]
  },
  {
   "cell_type": "markdown",
   "metadata": {},
   "source": [
    "**Note: ratio is cost (price) per benefit (rating) and likes is popularity**"
   ]
  },
  {
   "cell_type": "markdown",
   "metadata": {},
   "source": [
    "### Data Prepocessing - Predictive Model"
   ]
  },
  {
   "cell_type": "code",
   "execution_count": null,
   "metadata": {},
   "outputs": [],
   "source": [
    "df_venues = df_venues.reset_index()"
   ]
  },
  {
   "cell_type": "markdown",
   "metadata": {},
   "source": [
    "Fill NaN cells with the mean of the columns:"
   ]
  },
  {
   "cell_type": "code",
   "execution_count": null,
   "metadata": {},
   "outputs": [],
   "source": [
    "def nan_to_mean(series):\n",
    "    series.replace(np.nan, series.astype(\"float\").mean(axis=0), inplace=True)\n",
    "\n",
    "nan_to_mean(df_venues['price'])\n",
    "nan_to_mean(df_venues['rating'])\n",
    "nan_to_mean(df_venues['likes'])\n",
    "nan_to_mean(df_venues['ratio'])"
   ]
  },
  {
   "cell_type": "markdown",
   "metadata": {},
   "source": [
    "Define `df_feature` and `target` dataframes:"
   ]
  },
  {
   "cell_type": "code",
   "execution_count": null,
   "metadata": {},
   "outputs": [],
   "source": [
    "df_feature = df_venues[['price', 'rating', 'likes']]\n",
    "df_target = df_venues[['neighbourhood']]"
   ]
  },
  {
   "cell_type": "markdown",
   "metadata": {},
   "source": [
    "Perform one hot encoding in `df_target`:"
   ]
  },
  {
   "cell_type": "code",
   "execution_count": null,
   "metadata": {},
   "outputs": [],
   "source": [
    "df_target = pd.concat([pd.get_dummies(df_target['neighbourhood'])], axis=1)"
   ]
  },
  {
   "cell_type": "markdown",
   "metadata": {},
   "source": [
    "Split between train and test datasets:"
   ]
  },
  {
   "cell_type": "code",
   "execution_count": null,
   "metadata": {},
   "outputs": [],
   "source": [
    "df_feature = preprocessing.StandardScaler().fit(df_feature).transform(df_feature)"
   ]
  },
  {
   "cell_type": "code",
   "execution_count": null,
   "metadata": {},
   "outputs": [],
   "source": [
    "X_train, X_test, y_train, y_test = map(np.array,train_test_split(df_feature, df_target, train_size=0.9))"
   ]
  },
  {
   "cell_type": "markdown",
   "metadata": {},
   "source": [
    "## Data Modelling"
   ]
  },
  {
   "cell_type": "markdown",
   "metadata": {},
   "source": [
    "Build `tree` model given best `k`: "
   ]
  },
  {
   "cell_type": "code",
   "execution_count": null,
   "metadata": {},
   "outputs": [],
   "source": [
    "tree = DecisionTreeClassifier(criterion=\"entropy\", max_depth = 4)"
   ]
  },
  {
   "cell_type": "markdown",
   "metadata": {},
   "source": [
    "Train `tree` model with the train dataset (`x_train` and `y_train`):"
   ]
  },
  {
   "cell_type": "code",
   "execution_count": null,
   "metadata": {},
   "outputs": [],
   "source": [
    "model = tree.fit(X_train, y_train)"
   ]
  },
  {
   "cell_type": "markdown",
   "metadata": {},
   "source": [
    "## Model Evaluation"
   ]
  },
  {
   "cell_type": "markdown",
   "metadata": {},
   "source": [
    "Check R² score for with the test dataset (`X_test` and `y_test`):"
   ]
  },
  {
   "cell_type": "code",
   "execution_count": null,
   "metadata": {},
   "outputs": [],
   "source": [
    "yhat = tree.predict(X_test)\n",
    "print('Decision Tree Model Accuracy:',metrics.r2_score(y_test, yhat))"
   ]
  },
  {
   "cell_type": "markdown",
   "metadata": {},
   "source": [
    "## Data Visualization"
   ]
  },
  {
   "cell_type": "code",
   "execution_count": null,
   "metadata": {},
   "outputs": [],
   "source": [
    "lat, lng = 40.730610, -73.935242"
   ]
  },
  {
   "cell_type": "markdown",
   "metadata": {},
   "source": [
    "Function to automate the process of creating a map:"
   ]
  },
  {
   "cell_type": "code",
   "execution_count": null,
   "metadata": {},
   "outputs": [],
   "source": [
    "def create_map(var):\n",
    "    ny_map = folium.Map(\n",
    "        location = [lat,lng],\n",
    "        zoom_start = 10\n",
    "    )\n",
    "\n",
    "    scale_ratio = np.linspace(df_venues[var].min(), df_venues[var].max(), 10, dtype=float)\n",
    "    scale_ratio = scale_ratio.tolist()\n",
    "\n",
    "    folium.Choropleth(\n",
    "        name = 'Restaurant ' + var.capitalize(),\n",
    "        legend_name = var.capitalize(),\n",
    "        geo_data = geojson,\n",
    "        data = df_venues,\n",
    "        columns = ['neighbourhood', var],\n",
    "        key_on = 'properties.neighbourhood',\n",
    "        fill_color='YlGn',\n",
    "        fill_opacity=0.5,\n",
    "        line_opacity=0.2,\n",
    "        threshold_scale = scale_ratio\n",
    "    ).add_to(ny_map)\n",
    "\n",
    "    return ny_map"
   ]
  },
  {
   "cell_type": "markdown",
   "metadata": {},
   "source": [
    "**Benefit by Neighbourhood**"
   ]
  },
  {
   "cell_type": "code",
   "execution_count": null,
   "metadata": {},
   "outputs": [],
   "source": [
    "create_map('rating')"
   ]
  },
  {
   "cell_type": "markdown",
   "metadata": {},
   "source": [
    "**Cost by Neighbourhood**"
   ]
  },
  {
   "cell_type": "code",
   "execution_count": null,
   "metadata": {},
   "outputs": [],
   "source": [
    "create_map('price')"
   ]
  },
  {
   "cell_type": "markdown",
   "metadata": {},
   "source": [
    "** Popularity by Neighbourhood **"
   ]
  },
  {
   "cell_type": "code",
   "execution_count": null,
   "metadata": {},
   "outputs": [],
   "source": [
    "create_map('likes')"
   ]
  },
  {
   "cell_type": "markdown",
   "metadata": {},
   "source": [
    "## Export Data and Models"
   ]
  },
  {
   "cell_type": "code",
   "execution_count": null,
   "metadata": {},
   "outputs": [],
   "source": [
    "df_areas.to_csv('areas.csv')"
   ]
  },
  {
   "cell_type": "code",
   "execution_count": null,
   "metadata": {},
   "outputs": [],
   "source": [
    "df_venues.to_csv('venues.csv')"
   ]
  },
  {
   "cell_type": "code",
   "execution_count": null,
   "metadata": {},
   "outputs": [],
   "source": [
    "dump(tree, 'model.joblib') "
   ]
  }
 ],
 "metadata": {
  "kernelspec": {
   "display_name": "Python 3",
   "language": "python",
   "name": "python3"
  },
  "language_info": {
   "codemirror_mode": {
    "name": "ipython",
    "version": 3
   },
   "file_extension": ".py",
   "mimetype": "text/x-python",
   "name": "python",
   "nbconvert_exporter": "python",
   "pygments_lexer": "ipython3",
   "version": "3.8.5"
  }
 },
 "nbformat": 4,
 "nbformat_minor": 4
}
